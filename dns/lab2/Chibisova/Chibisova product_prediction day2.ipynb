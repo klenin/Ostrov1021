{
 "cells": [
  {
   "cell_type": "markdown",
   "metadata": {},
   "source": [
    "# Предсказание категории товара по описанию (день 2)\n",
    "### Проверяем обученные алгоритмы на данных другого магазина."
   ]
  },
  {
   "cell_type": "markdown",
   "metadata": {},
   "source": [
    "Импортируем библиотеки:"
   ]
  },
  {
   "cell_type": "code",
   "execution_count": 16,
   "metadata": {},
   "outputs": [],
   "source": [
    "import pandas as pd\n",
    "import numpy as np\n",
    "from sklearn.feature_extraction.text import CountVectorizer\n",
    "from sklearn.naive_bayes import MultinomialNB\n",
    "from sklearn.tree import DecisionTreeClassifier\n",
    "from sklearn.ensemble import RandomForestClassifier\n",
    "from sklearn.model_selection import train_test_split\n",
    "from sklearn.linear_model import SGDClassifier\n"
   ]
  },
  {
   "cell_type": "markdown",
   "metadata": {},
   "source": [
    "Подготавливаем обучающую выборку:"
   ]
  },
  {
   "cell_type": "code",
   "execution_count": 17,
   "metadata": {},
   "outputs": [],
   "source": [
    "df = pd.read_csv('Dataset 10.21/products_dns_sorted.csv').dropna()\n",
    "df_cat = pd.read_csv('Dataset 10.21/categories.csv').dropna()\n",
    "df['category_id'].replace(df_cat.set_index('category_id').to_dict()['category_name'], inplace=True)\n",
    "df.rename(columns = {'category_id': 'category'},  inplace = True)\n",
    "df['description'] = df['description'].str.lower()\n",
    "\n",
    "df = df.head(50000)"
   ]
  },
  {
   "cell_type": "markdown",
   "metadata": {},
   "source": [
    "Создаем матрицу частот слов:"
   ]
  },
  {
   "cell_type": "code",
   "execution_count": 3,
   "metadata": {},
   "outputs": [],
   "source": [
    "features = df['description']\n",
    "answers = df['category']\n",
    "cnt_vec = CountVectorizer()\n",
    "features = cnt_vec.fit_transform(features)"
   ]
  },
  {
   "cell_type": "markdown",
   "metadata": {},
   "source": [
    "Матрица частот ngam"
   ]
  },
  {
   "cell_type": "code",
   "execution_count": 19,
   "metadata": {},
   "outputs": [],
   "source": [
    "ngr_cnt_vec = CountVectorizer(max_features = 1000, analyzer='char_wb', ngram_range=(2,3))\n",
    "ngr_features = ngr_cnt_vec.fit_transform(df['description'])"
   ]
  },
  {
   "cell_type": "markdown",
   "metadata": {},
   "source": [
    "Загружаем данные второго магазина"
   ]
  },
  {
   "cell_type": "code",
   "execution_count": 13,
   "metadata": {},
   "outputs": [
    {
     "data": {
      "text/html": [
       "<div>\n",
       "<style scoped>\n",
       "    .dataframe tbody tr th:only-of-type {\n",
       "        vertical-align: middle;\n",
       "    }\n",
       "\n",
       "    .dataframe tbody tr th {\n",
       "        vertical-align: top;\n",
       "    }\n",
       "\n",
       "    .dataframe thead th {\n",
       "        text-align: right;\n",
       "    }\n",
       "</style>\n",
       "<table border=\"1\" class=\"dataframe\">\n",
       "  <thead>\n",
       "    <tr style=\"text-align: right;\">\n",
       "      <th></th>\n",
       "      <th>opp_product_id</th>\n",
       "      <th>opp_product_description</th>\n",
       "      <th>category</th>\n",
       "    </tr>\n",
       "  </thead>\n",
       "  <tbody>\n",
       "    <tr>\n",
       "      <th>0</th>\n",
       "      <td>8064001E6728A5A411E46B9A13D9EA47</td>\n",
       "      <td>фотокамера nikon d750 body</td>\n",
       "      <td>Зеркальные камеры Проф.</td>\n",
       "    </tr>\n",
       "    <tr>\n",
       "      <th>1</th>\n",
       "      <td>8064001E6728A5A411E46B9A13D9EA49</td>\n",
       "      <td>портативная акустика sony srs-btv5w; белый\"</td>\n",
       "      <td>Колонки портативные</td>\n",
       "    </tr>\n",
       "    <tr>\n",
       "      <th>2</th>\n",
       "      <td>8064001E6728A5A411E46B9A13D9EA49</td>\n",
       "      <td>портативная акустика sony srs-btv5w; белый\"</td>\n",
       "      <td>Колонки 2.0</td>\n",
       "    </tr>\n",
       "    <tr>\n",
       "      <th>3</th>\n",
       "      <td>8064001E6728A5A411E46B9A13D9EA4A</td>\n",
       "      <td>монопод sony vct-amp1 для action cam\"</td>\n",
       "      <td>Аксессуары для экшн-камер</td>\n",
       "    </tr>\n",
       "    <tr>\n",
       "      <th>4</th>\n",
       "      <td>8064001E6728A5A411E46B9A13D9EA4B</td>\n",
       "      <td>портативная акустика sony srs-btv5b; черный\"</td>\n",
       "      <td>Колонки портативные</td>\n",
       "    </tr>\n",
       "  </tbody>\n",
       "</table>\n",
       "</div>"
      ],
      "text/plain": [
       "                     opp_product_id  \\\n",
       "0  8064001E6728A5A411E46B9A13D9EA47   \n",
       "1  8064001E6728A5A411E46B9A13D9EA49   \n",
       "2  8064001E6728A5A411E46B9A13D9EA49   \n",
       "3  8064001E6728A5A411E46B9A13D9EA4A   \n",
       "4  8064001E6728A5A411E46B9A13D9EA4B   \n",
       "\n",
       "                        opp_product_description                   category  \n",
       "0                    фотокамера nikon d750 body    Зеркальные камеры Проф.  \n",
       "1   портативная акустика sony srs-btv5w; белый\"        Колонки портативные  \n",
       "2   портативная акустика sony srs-btv5w; белый\"                Колонки 2.0  \n",
       "3         монопод sony vct-amp1 для action cam\"  Аксессуары для экшн-камер  \n",
       "4  портативная акустика sony srs-btv5b; черный\"        Колонки портативные  "
      ]
     },
     "execution_count": 13,
     "metadata": {},
     "output_type": "execute_result"
    }
   ],
   "source": [
    "opp_df = pd.read_csv('Dataset 10.21/opponents_to_dns_products_250k.csv').dropna()\n",
    "opp_df = opp_df.head(50000)\n",
    "opp_df = opp_df[['opp_product_id', 'opp_product_description', 'category_id']]\n",
    "opp_df['category_id'].replace(df_cat.set_index('category_id').to_dict()['category_name'], inplace=True)\n",
    "opp_df.rename(columns = {'category_id': 'category'},  inplace = True)\n",
    "opp_df['opp_product_description'] = opp_df['opp_product_description'].str.lower()\n",
    "opp_df.head(5)"
   ]
  },
  {
   "cell_type": "markdown",
   "metadata": {},
   "source": [
    "Подготавливаем признаки для второго магазина"
   ]
  },
  {
   "cell_type": "code",
   "execution_count": 14,
   "metadata": {},
   "outputs": [],
   "source": [
    "opp_features = opp_df['opp_product_description']\n",
    "opp_answers = opp_df['category']\n",
    "opp_features = cnt_vec.transform(opp_features)\n",
    "ngr_opp_features = ngr_cnt_vec.transform(opp_df['opp_product_description'])"
   ]
  },
  {
   "cell_type": "markdown",
   "metadata": {},
   "source": [
    "Наивный байесовский классификатор:"
   ]
  },
  {
   "cell_type": "code",
   "execution_count": 6,
   "metadata": {},
   "outputs": [
    {
     "name": "stdout",
     "output_type": "stream",
     "text": [
      "train score: 0.8898\n",
      "test score: 0.7758\n"
     ]
    }
   ],
   "source": [
    "classifier = MultinomialNB().fit(features, answers)\n",
    "print('train score:', \"{0:.4f}\".format(classifier.score(features, answers)))\n",
    "print('test score:', \"{0:.4f}\".format(classifier.score(opp_features, opp_answers)))"
   ]
  },
  {
   "cell_type": "markdown",
   "metadata": {},
   "source": [
    "Наивный байес ngram:"
   ]
  },
  {
   "cell_type": "code",
   "execution_count": 11,
   "metadata": {},
   "outputs": [
    {
     "name": "stdout",
     "output_type": "stream",
     "text": [
      "train score: 0.8606\n",
      "test score: 0.5582\n"
     ]
    }
   ],
   "source": [
    "ngr_classifier = MultinomialNB().fit(ngr_features, answers)\n",
    "print('train score:', \"{0:.4f}\".format(ngr_classifier.score(ngr_features, answers)))\n",
    "print('test score:', \"{0:.4f}\".format(ngr_classifier.score(ngr_opp_features, opp_answers)))"
   ]
  },
  {
   "cell_type": "code",
   "execution_count": null,
   "metadata": {},
   "outputs": [],
   "source": []
  }
 ],
 "metadata": {
  "kernelspec": {
   "display_name": "Python 3",
   "language": "python",
   "name": "python3"
  },
  "language_info": {
   "codemirror_mode": {
    "name": "ipython",
    "version": 3
   },
   "file_extension": ".py",
   "mimetype": "text/x-python",
   "name": "python",
   "nbconvert_exporter": "python",
   "pygments_lexer": "ipython3",
   "version": "3.6.5"
  }
 },
 "nbformat": 4,
 "nbformat_minor": 2
}
