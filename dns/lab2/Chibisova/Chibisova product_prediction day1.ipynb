{
 "cells": [
  {
   "cell_type": "markdown",
   "metadata": {},
   "source": [
    "# Предсказание категории товара по описанию (день 1)"
   ]
  },
  {
   "cell_type": "markdown",
   "metadata": {},
   "source": [
    "Импортируем библиотеки:"
   ]
  },
  {
   "cell_type": "code",
   "execution_count": 1,
   "metadata": {},
   "outputs": [],
   "source": [
    "import pandas as pd\n",
    "import numpy as np\n",
    "from sklearn.feature_extraction.text import CountVectorizer\n",
    "from sklearn.naive_bayes import MultinomialNB\n",
    "from sklearn.tree import DecisionTreeClassifier\n",
    "from sklearn.ensemble import RandomForestClassifier\n",
    "from sklearn.model_selection import train_test_split\n",
    "from sklearn.linear_model import SGDClassifier"
   ]
  },
  {
   "cell_type": "markdown",
   "metadata": {},
   "source": [
    "Считываем данные и удаляем пустые строки:"
   ]
  },
  {
   "cell_type": "code",
   "execution_count": 2,
   "metadata": {},
   "outputs": [],
   "source": [
    "df = pd.read_csv('Dataset 10.21/products_dns_sorted.csv').dropna()\n",
    "df_cat = pd.read_csv('Dataset 10.21/categories.csv').dropna()"
   ]
  },
  {
   "cell_type": "markdown",
   "metadata": {},
   "source": [
    "С помощью replace заменяем id категории на название. Аргумент replace - словарь {код категории: категория}.\n",
    "Меняем название столбца 'category_id' на 'category_name'"
   ]
  },
  {
   "cell_type": "code",
   "execution_count": 3,
   "metadata": {},
   "outputs": [],
   "source": [
    "df['category_id'].replace(df_cat.set_index('category_id').to_dict()['category_name'], inplace=True)\n",
    "df.rename(columns = {'category_id': 'category'},  inplace = True)\n",
    "df['description'] = df['description'].str.lower()"
   ]
  },
  {
   "cell_type": "code",
   "execution_count": 4,
   "metadata": {},
   "outputs": [
    {
     "data": {
      "text/html": [
       "<div>\n",
       "<style scoped>\n",
       "    .dataframe tbody tr th:only-of-type {\n",
       "        vertical-align: middle;\n",
       "    }\n",
       "\n",
       "    .dataframe tbody tr th {\n",
       "        vertical-align: top;\n",
       "    }\n",
       "\n",
       "    .dataframe thead th {\n",
       "        text-align: right;\n",
       "    }\n",
       "</style>\n",
       "<table border=\"1\" class=\"dataframe\">\n",
       "  <thead>\n",
       "    <tr style=\"text-align: right;\">\n",
       "      <th></th>\n",
       "      <th>product_id</th>\n",
       "      <th>category</th>\n",
       "      <th>description</th>\n",
       "    </tr>\n",
       "  </thead>\n",
       "  <tbody>\n",
       "    <tr>\n",
       "      <th>0</th>\n",
       "      <td>81F1005056A615EF11E309FFE937AB5C</td>\n",
       "      <td>Аксессуары автоэлектроника</td>\n",
       "      <td>зеркало внутрисалонное вега-330 [330 мм; панор...</td>\n",
       "    </tr>\n",
       "    <tr>\n",
       "      <th>1</th>\n",
       "      <td>81F1005056A615EF11E309FFE937AB5D</td>\n",
       "      <td>Аксессуары автоэлектроника</td>\n",
       "      <td>зеркало внутрисалонное вега-330 антиблик [330 ...</td>\n",
       "    </tr>\n",
       "    <tr>\n",
       "      <th>2</th>\n",
       "      <td>81F1005056A615EF11E309FFE937AB5E</td>\n",
       "      <td>Аксессуары автоэлектроника</td>\n",
       "      <td>зеркало внутрисалонное сириус-300 [300 мм; пан...</td>\n",
       "    </tr>\n",
       "    <tr>\n",
       "      <th>3</th>\n",
       "      <td>81F1005056A615EF11E309FFE937AB5F</td>\n",
       "      <td>Аксессуары автоэлектроника</td>\n",
       "      <td>зеркало внутрисалонное сириус-300 антиблик [30...</td>\n",
       "    </tr>\n",
       "    <tr>\n",
       "      <th>4</th>\n",
       "      <td>81F1005056A615EF11E309FFE937AB60</td>\n",
       "      <td>Аксессуары автоэлектроника</td>\n",
       "      <td>зеркало внутрисалонное орион-330 [330 мм; пано...</td>\n",
       "    </tr>\n",
       "    <tr>\n",
       "      <th>5</th>\n",
       "      <td>81F1005056A615EF11E309FFE937AB61</td>\n",
       "      <td>Аксессуары автоэлектроника</td>\n",
       "      <td>зеркало внутрисалонное орион-330 антиблик [330...</td>\n",
       "    </tr>\n",
       "    <tr>\n",
       "      <th>6</th>\n",
       "      <td>81F1005056A615EF11E309FFE937AB62</td>\n",
       "      <td>Аксессуары автоэлектроника</td>\n",
       "      <td>зеркало внутрисалонное вега-240 [240 мм; антиб...</td>\n",
       "    </tr>\n",
       "    <tr>\n",
       "      <th>7</th>\n",
       "      <td>81F1005056A615EF11E309FFE937AB63</td>\n",
       "      <td>Аксессуары автоэлектроника</td>\n",
       "      <td>зеркало внутрисалонное вега-270 [270 мм; антиб...</td>\n",
       "    </tr>\n",
       "    <tr>\n",
       "      <th>8</th>\n",
       "      <td>81F1005056A615EF11E309FFE937AB84</td>\n",
       "      <td>Аксессуары автоэлектроника</td>\n",
       "      <td>огнетушитель меланти оп-1 (3) [1 л; порошковый...</td>\n",
       "    </tr>\n",
       "    <tr>\n",
       "      <th>9</th>\n",
       "      <td>81F1005056A615EF11E309FFE937AB87</td>\n",
       "      <td>Аксессуары автоэлектроника</td>\n",
       "      <td>огнетушитель фортпожсистема оп-2 [2 л; порошко...</td>\n",
       "    </tr>\n",
       "  </tbody>\n",
       "</table>\n",
       "</div>"
      ],
      "text/plain": [
       "                         product_id                    category  \\\n",
       "0  81F1005056A615EF11E309FFE937AB5C  Аксессуары автоэлектроника   \n",
       "1  81F1005056A615EF11E309FFE937AB5D  Аксессуары автоэлектроника   \n",
       "2  81F1005056A615EF11E309FFE937AB5E  Аксессуары автоэлектроника   \n",
       "3  81F1005056A615EF11E309FFE937AB5F  Аксессуары автоэлектроника   \n",
       "4  81F1005056A615EF11E309FFE937AB60  Аксессуары автоэлектроника   \n",
       "5  81F1005056A615EF11E309FFE937AB61  Аксессуары автоэлектроника   \n",
       "6  81F1005056A615EF11E309FFE937AB62  Аксессуары автоэлектроника   \n",
       "7  81F1005056A615EF11E309FFE937AB63  Аксессуары автоэлектроника   \n",
       "8  81F1005056A615EF11E309FFE937AB84  Аксессуары автоэлектроника   \n",
       "9  81F1005056A615EF11E309FFE937AB87  Аксессуары автоэлектроника   \n",
       "\n",
       "                                         description  \n",
       "0  зеркало внутрисалонное вега-330 [330 мм; панор...  \n",
       "1  зеркало внутрисалонное вега-330 антиблик [330 ...  \n",
       "2  зеркало внутрисалонное сириус-300 [300 мм; пан...  \n",
       "3  зеркало внутрисалонное сириус-300 антиблик [30...  \n",
       "4  зеркало внутрисалонное орион-330 [330 мм; пано...  \n",
       "5  зеркало внутрисалонное орион-330 антиблик [330...  \n",
       "6  зеркало внутрисалонное вега-240 [240 мм; антиб...  \n",
       "7  зеркало внутрисалонное вега-270 [270 мм; антиб...  \n",
       "8  огнетушитель меланти оп-1 (3) [1 л; порошковый...  \n",
       "9  огнетушитель фортпожсистема оп-2 [2 л; порошко...  "
      ]
     },
     "execution_count": 4,
     "metadata": {},
     "output_type": "execute_result"
    }
   ],
   "source": [
    "df.head(10)"
   ]
  },
  {
   "cell_type": "markdown",
   "metadata": {},
   "source": [
    "Создаем CountVectorizer, делим выборку на trainX, testX, trainY, testY"
   ]
  },
  {
   "cell_type": "code",
   "execution_count": 5,
   "metadata": {},
   "outputs": [],
   "source": [
    "features = df['description']\n",
    "answers = df['category']\n",
    "\n",
    "trainX, testX, trainY, testY = train_test_split(features, answers, test_size=0.5)\n",
    "\n",
    "cnt_vec = CountVectorizer()\n",
    "trainX = cnt_vec.fit_transform(trainX)\n",
    "testX = cnt_vec.transform(testX)\n"
   ]
  },
  {
   "cell_type": "markdown",
   "metadata": {},
   "source": [
    "Наивный байесовский классификатор:"
   ]
  },
  {
   "cell_type": "code",
   "execution_count": null,
   "metadata": {},
   "outputs": [],
   "source": [
    "classifier = MultinomialNB().fit(trainX, trainY)\n",
    "print('train score:', \"{0:.4f}\".format(classifier.score(trainX, trainY)))\n",
    "print('test score:', \"{0:.4f}\".format(classifier.score(testX, testY)))"
   ]
  },
  {
   "cell_type": "markdown",
   "metadata": {},
   "source": [
    "Дерево принятия решений:"
   ]
  },
  {
   "cell_type": "code",
   "execution_count": null,
   "metadata": {},
   "outputs": [],
   "source": [
    "dec_tree = DecisionTreeClassifier().fit(trainX, trainY)\n",
    "print('train score:', \"{0:.4f}\".format(dec_tree.score(trainX, trainY)))\n",
    "print('test score:', \"{0:.4f}\".format(dec_tree.score(testX, testY)))"
   ]
  },
  {
   "cell_type": "markdown",
   "metadata": {},
   "source": [
    "Случайный лес:"
   ]
  },
  {
   "cell_type": "code",
   "execution_count": null,
   "metadata": {},
   "outputs": [],
   "source": [
    "forest = RandomForestClassifier().fit(trainX, trainY)\n",
    "print('train score:', \"{0:.4f}\".format(forest.score(trainX, trainY)))\n",
    "print(\"{0:.4f}\".format(forest.score(testX, testY)))"
   ]
  },
  {
   "cell_type": "markdown",
   "metadata": {},
   "source": [
    "Стохастический градиент:"
   ]
  },
  {
   "cell_type": "code",
   "execution_count": null,
   "metadata": {},
   "outputs": [],
   "source": [
    "sgd = SGDClassifier().fit(trainX, trainY)\n",
    "print('train score:',\"{0:.4f}\".format(sgd.score(trainX, trainY)))\n",
    "print('train score:',\"{0:.4f}\".format(sgd.score(testX, testY)))"
   ]
  },
  {
   "cell_type": "code",
   "execution_count": 261,
   "metadata": {},
   "outputs": [
    {
     "data": {
      "text/plain": [
       "Index(['Аксессуары автоэлектроника', 'ЗИП (для ценообразования)', 'Ноутбуки',\n",
       "       'Обувь', 'Чехол для GSM'],\n",
       "      dtype='object')"
      ]
     },
     "execution_count": 261,
     "metadata": {},
     "output_type": "execute_result"
    }
   ],
   "source": [
    "cnt = df['category'].value_counts()\n",
    "cnt.index[cnt >= 10000]"
   ]
  },
  {
   "cell_type": "code",
   "execution_count": null,
   "metadata": {},
   "outputs": [],
   "source": []
  }
 ],
 "metadata": {
  "kernelspec": {
   "display_name": "Python 3",
   "language": "python",
   "name": "python3"
  },
  "language_info": {
   "codemirror_mode": {
    "name": "ipython",
    "version": 3
   },
   "file_extension": ".py",
   "mimetype": "text/x-python",
   "name": "python",
   "nbconvert_exporter": "python",
   "pygments_lexer": "ipython3",
   "version": "3.6.5"
  }
 },
 "nbformat": 4,
 "nbformat_minor": 2
}
